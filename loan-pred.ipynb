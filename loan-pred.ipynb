{
 "cells": [
  {
   "cell_type": "markdown",
   "id": "5be8053e",
   "metadata": {
    "papermill": {
     "duration": 0.01313,
     "end_time": "2024-07-17T19:14:28.952145",
     "exception": false,
     "start_time": "2024-07-17T19:14:28.939015",
     "status": "completed"
    },
    "tags": []
   },
   "source": [
    "### Loan Prediction"
   ]
  },
  {
   "cell_type": "code",
   "execution_count": 1,
   "id": "9a0ed437",
   "metadata": {
    "_cell_guid": "b1076dfc-b9ad-4769-8c92-a6c4dae69d19",
    "_uuid": "8f2839f25d086af736a60e9eeb907d3b93b6e0e5",
    "execution": {
     "iopub.execute_input": "2024-07-17T19:14:28.980403Z",
     "iopub.status.busy": "2024-07-17T19:14:28.979984Z",
     "iopub.status.idle": "2024-07-17T19:14:28.999251Z",
     "shell.execute_reply": "2024-07-17T19:14:28.997919Z"
    },
    "papermill": {
     "duration": 0.036339,
     "end_time": "2024-07-17T19:14:29.001475",
     "exception": false,
     "start_time": "2024-07-17T19:14:28.965136",
     "status": "completed"
    },
    "tags": []
   },
   "outputs": [
    {
     "name": "stdout",
     "output_type": "stream",
     "text": [
      "/kaggle/input/loan-prediction-problem-dataset/test_Y3wMUE5_7gLdaTN.csv\n",
      "/kaggle/input/loan-prediction-problem-dataset/train_u6lujuX_CVtuZ9i.csv\n"
     ]
    }
   ],
   "source": [
    "import os\n",
    "for dirname, _, filenames in os.walk('/kaggle/input'):\n",
    "    for filename in filenames:\n",
    "        print(os.path.join(dirname, filename))"
   ]
  },
  {
   "cell_type": "markdown",
   "id": "31784997",
   "metadata": {
    "papermill": {
     "duration": 0.012799,
     "end_time": "2024-07-17T19:14:29.027293",
     "exception": false,
     "start_time": "2024-07-17T19:14:29.014494",
     "status": "completed"
    },
    "tags": []
   },
   "source": [
    "**Objective**<br>\n",
    "Building a predictive model that determines the eligibility of loan applicants based on dataset."
   ]
  },
  {
   "cell_type": "code",
   "execution_count": 2,
   "id": "605506fb",
   "metadata": {
    "execution": {
     "iopub.execute_input": "2024-07-17T19:14:29.055143Z",
     "iopub.status.busy": "2024-07-17T19:14:29.054780Z",
     "iopub.status.idle": "2024-07-17T19:14:31.318349Z",
     "shell.execute_reply": "2024-07-17T19:14:31.317023Z"
    },
    "papermill": {
     "duration": 2.28097,
     "end_time": "2024-07-17T19:14:31.320959",
     "exception": false,
     "start_time": "2024-07-17T19:14:29.039989",
     "status": "completed"
    },
    "tags": []
   },
   "outputs": [],
   "source": [
    "#importing libraries\n",
    "import pandas as pd\n",
    "import numpy as np\n",
    "import seaborn as sns\n",
    "import matplotlib.pyplot as plt\n",
    "import warnings\n",
    "warnings.filterwarnings('ignore')"
   ]
  },
  {
   "cell_type": "code",
   "execution_count": 3,
   "id": "c0d629b7",
   "metadata": {
    "execution": {
     "iopub.execute_input": "2024-07-17T19:14:31.350776Z",
     "iopub.status.busy": "2024-07-17T19:14:31.350239Z",
     "iopub.status.idle": "2024-07-17T19:14:31.400387Z",
     "shell.execute_reply": "2024-07-17T19:14:31.399188Z"
    },
    "papermill": {
     "duration": 0.068041,
     "end_time": "2024-07-17T19:14:31.402785",
     "exception": false,
     "start_time": "2024-07-17T19:14:31.334744",
     "status": "completed"
    },
    "tags": []
   },
   "outputs": [
    {
     "data": {
      "text/html": [
       "<div>\n",
       "<style scoped>\n",
       "    .dataframe tbody tr th:only-of-type {\n",
       "        vertical-align: middle;\n",
       "    }\n",
       "\n",
       "    .dataframe tbody tr th {\n",
       "        vertical-align: top;\n",
       "    }\n",
       "\n",
       "    .dataframe thead th {\n",
       "        text-align: right;\n",
       "    }\n",
       "</style>\n",
       "<table border=\"1\" class=\"dataframe\">\n",
       "  <thead>\n",
       "    <tr style=\"text-align: right;\">\n",
       "      <th></th>\n",
       "      <th>Loan_ID</th>\n",
       "      <th>Gender</th>\n",
       "      <th>Married</th>\n",
       "      <th>Dependents</th>\n",
       "      <th>Education</th>\n",
       "      <th>Self_Employed</th>\n",
       "      <th>ApplicantIncome</th>\n",
       "      <th>CoapplicantIncome</th>\n",
       "      <th>LoanAmount</th>\n",
       "      <th>Loan_Amount_Term</th>\n",
       "      <th>Credit_History</th>\n",
       "      <th>Property_Area</th>\n",
       "      <th>Loan_Status</th>\n",
       "    </tr>\n",
       "  </thead>\n",
       "  <tbody>\n",
       "    <tr>\n",
       "      <th>0</th>\n",
       "      <td>LP001002</td>\n",
       "      <td>Male</td>\n",
       "      <td>No</td>\n",
       "      <td>0</td>\n",
       "      <td>Graduate</td>\n",
       "      <td>No</td>\n",
       "      <td>5849</td>\n",
       "      <td>0.0</td>\n",
       "      <td>NaN</td>\n",
       "      <td>360.0</td>\n",
       "      <td>1.0</td>\n",
       "      <td>Urban</td>\n",
       "      <td>Y</td>\n",
       "    </tr>\n",
       "    <tr>\n",
       "      <th>1</th>\n",
       "      <td>LP001003</td>\n",
       "      <td>Male</td>\n",
       "      <td>Yes</td>\n",
       "      <td>1</td>\n",
       "      <td>Graduate</td>\n",
       "      <td>No</td>\n",
       "      <td>4583</td>\n",
       "      <td>1508.0</td>\n",
       "      <td>128.0</td>\n",
       "      <td>360.0</td>\n",
       "      <td>1.0</td>\n",
       "      <td>Rural</td>\n",
       "      <td>N</td>\n",
       "    </tr>\n",
       "    <tr>\n",
       "      <th>2</th>\n",
       "      <td>LP001005</td>\n",
       "      <td>Male</td>\n",
       "      <td>Yes</td>\n",
       "      <td>0</td>\n",
       "      <td>Graduate</td>\n",
       "      <td>Yes</td>\n",
       "      <td>3000</td>\n",
       "      <td>0.0</td>\n",
       "      <td>66.0</td>\n",
       "      <td>360.0</td>\n",
       "      <td>1.0</td>\n",
       "      <td>Urban</td>\n",
       "      <td>Y</td>\n",
       "    </tr>\n",
       "    <tr>\n",
       "      <th>3</th>\n",
       "      <td>LP001006</td>\n",
       "      <td>Male</td>\n",
       "      <td>Yes</td>\n",
       "      <td>0</td>\n",
       "      <td>Not Graduate</td>\n",
       "      <td>No</td>\n",
       "      <td>2583</td>\n",
       "      <td>2358.0</td>\n",
       "      <td>120.0</td>\n",
       "      <td>360.0</td>\n",
       "      <td>1.0</td>\n",
       "      <td>Urban</td>\n",
       "      <td>Y</td>\n",
       "    </tr>\n",
       "    <tr>\n",
       "      <th>4</th>\n",
       "      <td>LP001008</td>\n",
       "      <td>Male</td>\n",
       "      <td>No</td>\n",
       "      <td>0</td>\n",
       "      <td>Graduate</td>\n",
       "      <td>No</td>\n",
       "      <td>6000</td>\n",
       "      <td>0.0</td>\n",
       "      <td>141.0</td>\n",
       "      <td>360.0</td>\n",
       "      <td>1.0</td>\n",
       "      <td>Urban</td>\n",
       "      <td>Y</td>\n",
       "    </tr>\n",
       "  </tbody>\n",
       "</table>\n",
       "</div>"
      ],
      "text/plain": [
       "    Loan_ID Gender Married Dependents     Education Self_Employed  \\\n",
       "0  LP001002   Male      No          0      Graduate            No   \n",
       "1  LP001003   Male     Yes          1      Graduate            No   \n",
       "2  LP001005   Male     Yes          0      Graduate           Yes   \n",
       "3  LP001006   Male     Yes          0  Not Graduate            No   \n",
       "4  LP001008   Male      No          0      Graduate            No   \n",
       "\n",
       "   ApplicantIncome  CoapplicantIncome  LoanAmount  Loan_Amount_Term  \\\n",
       "0             5849                0.0         NaN             360.0   \n",
       "1             4583             1508.0       128.0             360.0   \n",
       "2             3000                0.0        66.0             360.0   \n",
       "3             2583             2358.0       120.0             360.0   \n",
       "4             6000                0.0       141.0             360.0   \n",
       "\n",
       "   Credit_History Property_Area Loan_Status  \n",
       "0             1.0         Urban           Y  \n",
       "1             1.0         Rural           N  \n",
       "2             1.0         Urban           Y  \n",
       "3             1.0         Urban           Y  \n",
       "4             1.0         Urban           Y  "
      ]
     },
     "execution_count": 3,
     "metadata": {},
     "output_type": "execute_result"
    }
   ],
   "source": [
    "data = pd.read_csv(\"/kaggle/input/loan-prediction-problem-dataset/train_u6lujuX_CVtuZ9i.csv\")\n",
    "data.head()"
   ]
  },
  {
   "cell_type": "markdown",
   "id": "52b485e2",
   "metadata": {
    "papermill": {
     "duration": 0.013222,
     "end_time": "2024-07-17T19:14:31.429876",
     "exception": false,
     "start_time": "2024-07-17T19:14:31.416654",
     "status": "completed"
    },
    "tags": []
   },
   "source": [
    "#### Requirement\n",
    "Bring the dataset to a state where it can be used for prediction."
   ]
  },
  {
   "cell_type": "code",
   "execution_count": 4,
   "id": "572c4356",
   "metadata": {
    "execution": {
     "iopub.execute_input": "2024-07-17T19:14:31.458646Z",
     "iopub.status.busy": "2024-07-17T19:14:31.457772Z",
     "iopub.status.idle": "2024-07-17T19:14:31.485107Z",
     "shell.execute_reply": "2024-07-17T19:14:31.483794Z"
    },
    "papermill": {
     "duration": 0.044618,
     "end_time": "2024-07-17T19:14:31.487714",
     "exception": false,
     "start_time": "2024-07-17T19:14:31.443096",
     "status": "completed"
    },
    "tags": []
   },
   "outputs": [
    {
     "name": "stdout",
     "output_type": "stream",
     "text": [
      "<class 'pandas.core.frame.DataFrame'>\n",
      "RangeIndex: 614 entries, 0 to 613\n",
      "Data columns (total 13 columns):\n",
      " #   Column             Non-Null Count  Dtype  \n",
      "---  ------             --------------  -----  \n",
      " 0   Loan_ID            614 non-null    object \n",
      " 1   Gender             601 non-null    object \n",
      " 2   Married            611 non-null    object \n",
      " 3   Dependents         599 non-null    object \n",
      " 4   Education          614 non-null    object \n",
      " 5   Self_Employed      582 non-null    object \n",
      " 6   ApplicantIncome    614 non-null    int64  \n",
      " 7   CoapplicantIncome  614 non-null    float64\n",
      " 8   LoanAmount         592 non-null    float64\n",
      " 9   Loan_Amount_Term   600 non-null    float64\n",
      " 10  Credit_History     564 non-null    float64\n",
      " 11  Property_Area      614 non-null    object \n",
      " 12  Loan_Status        614 non-null    object \n",
      "dtypes: float64(4), int64(1), object(8)\n",
      "memory usage: 62.5+ KB\n"
     ]
    }
   ],
   "source": [
    "data.info()"
   ]
  },
  {
   "cell_type": "code",
   "execution_count": 5,
   "id": "78be4c03",
   "metadata": {
    "execution": {
     "iopub.execute_input": "2024-07-17T19:14:31.516665Z",
     "iopub.status.busy": "2024-07-17T19:14:31.516291Z",
     "iopub.status.idle": "2024-07-17T19:14:31.525377Z",
     "shell.execute_reply": "2024-07-17T19:14:31.523543Z"
    },
    "papermill": {
     "duration": 0.027369,
     "end_time": "2024-07-17T19:14:31.528845",
     "exception": false,
     "start_time": "2024-07-17T19:14:31.501476",
     "status": "completed"
    },
    "tags": []
   },
   "outputs": [
    {
     "data": {
      "text/plain": [
       "7"
      ]
     },
     "execution_count": 5,
     "metadata": {},
     "output_type": "execute_result"
    }
   ],
   "source": [
    "sum(data.isnull().sum()>0)"
   ]
  },
  {
   "cell_type": "markdown",
   "id": "cf16edcc",
   "metadata": {
    "papermill": {
     "duration": 0.013004,
     "end_time": "2024-07-17T19:14:31.555719",
     "exception": false,
     "start_time": "2024-07-17T19:14:31.542715",
     "status": "completed"
    },
    "tags": []
   },
   "source": [
    "**Observation**<br>\n",
    "* There are 614 rows in the dataset.\n",
    "* There are 7 columns where we see of null values."
   ]
  },
  {
   "cell_type": "code",
   "execution_count": 6,
   "id": "e34136b3",
   "metadata": {
    "execution": {
     "iopub.execute_input": "2024-07-17T19:14:31.584345Z",
     "iopub.status.busy": "2024-07-17T19:14:31.583401Z",
     "iopub.status.idle": "2024-07-17T19:14:31.608654Z",
     "shell.execute_reply": "2024-07-17T19:14:31.607491Z"
    },
    "papermill": {
     "duration": 0.042148,
     "end_time": "2024-07-17T19:14:31.611089",
     "exception": false,
     "start_time": "2024-07-17T19:14:31.568941",
     "status": "completed"
    },
    "tags": []
   },
   "outputs": [
    {
     "data": {
      "text/html": [
       "<div>\n",
       "<style scoped>\n",
       "    .dataframe tbody tr th:only-of-type {\n",
       "        vertical-align: middle;\n",
       "    }\n",
       "\n",
       "    .dataframe tbody tr th {\n",
       "        vertical-align: top;\n",
       "    }\n",
       "\n",
       "    .dataframe thead th {\n",
       "        text-align: right;\n",
       "    }\n",
       "</style>\n",
       "<table border=\"1\" class=\"dataframe\">\n",
       "  <thead>\n",
       "    <tr style=\"text-align: right;\">\n",
       "      <th></th>\n",
       "      <th>ApplicantIncome</th>\n",
       "      <th>CoapplicantIncome</th>\n",
       "      <th>LoanAmount</th>\n",
       "      <th>Loan_Amount_Term</th>\n",
       "      <th>Credit_History</th>\n",
       "    </tr>\n",
       "  </thead>\n",
       "  <tbody>\n",
       "    <tr>\n",
       "      <th>count</th>\n",
       "      <td>614.000000</td>\n",
       "      <td>614.000000</td>\n",
       "      <td>592.000000</td>\n",
       "      <td>600.00000</td>\n",
       "      <td>564.000000</td>\n",
       "    </tr>\n",
       "    <tr>\n",
       "      <th>mean</th>\n",
       "      <td>5403.459283</td>\n",
       "      <td>1621.245798</td>\n",
       "      <td>146.412162</td>\n",
       "      <td>342.00000</td>\n",
       "      <td>0.842199</td>\n",
       "    </tr>\n",
       "    <tr>\n",
       "      <th>std</th>\n",
       "      <td>6109.041673</td>\n",
       "      <td>2926.248369</td>\n",
       "      <td>85.587325</td>\n",
       "      <td>65.12041</td>\n",
       "      <td>0.364878</td>\n",
       "    </tr>\n",
       "    <tr>\n",
       "      <th>min</th>\n",
       "      <td>150.000000</td>\n",
       "      <td>0.000000</td>\n",
       "      <td>9.000000</td>\n",
       "      <td>12.00000</td>\n",
       "      <td>0.000000</td>\n",
       "    </tr>\n",
       "    <tr>\n",
       "      <th>25%</th>\n",
       "      <td>2877.500000</td>\n",
       "      <td>0.000000</td>\n",
       "      <td>100.000000</td>\n",
       "      <td>360.00000</td>\n",
       "      <td>1.000000</td>\n",
       "    </tr>\n",
       "    <tr>\n",
       "      <th>50%</th>\n",
       "      <td>3812.500000</td>\n",
       "      <td>1188.500000</td>\n",
       "      <td>128.000000</td>\n",
       "      <td>360.00000</td>\n",
       "      <td>1.000000</td>\n",
       "    </tr>\n",
       "    <tr>\n",
       "      <th>75%</th>\n",
       "      <td>5795.000000</td>\n",
       "      <td>2297.250000</td>\n",
       "      <td>168.000000</td>\n",
       "      <td>360.00000</td>\n",
       "      <td>1.000000</td>\n",
       "    </tr>\n",
       "    <tr>\n",
       "      <th>max</th>\n",
       "      <td>81000.000000</td>\n",
       "      <td>41667.000000</td>\n",
       "      <td>700.000000</td>\n",
       "      <td>480.00000</td>\n",
       "      <td>1.000000</td>\n",
       "    </tr>\n",
       "  </tbody>\n",
       "</table>\n",
       "</div>"
      ],
      "text/plain": [
       "       ApplicantIncome  CoapplicantIncome  LoanAmount  Loan_Amount_Term  \\\n",
       "count       614.000000         614.000000  592.000000         600.00000   \n",
       "mean       5403.459283        1621.245798  146.412162         342.00000   \n",
       "std        6109.041673        2926.248369   85.587325          65.12041   \n",
       "min         150.000000           0.000000    9.000000          12.00000   \n",
       "25%        2877.500000           0.000000  100.000000         360.00000   \n",
       "50%        3812.500000        1188.500000  128.000000         360.00000   \n",
       "75%        5795.000000        2297.250000  168.000000         360.00000   \n",
       "max       81000.000000       41667.000000  700.000000         480.00000   \n",
       "\n",
       "       Credit_History  \n",
       "count      564.000000  \n",
       "mean         0.842199  \n",
       "std          0.364878  \n",
       "min          0.000000  \n",
       "25%          1.000000  \n",
       "50%          1.000000  \n",
       "75%          1.000000  \n",
       "max          1.000000  "
      ]
     },
     "execution_count": 6,
     "metadata": {},
     "output_type": "execute_result"
    }
   ],
   "source": [
    "# Understanding the numerical values columns\n",
    "data.describe()"
   ]
  },
  {
   "cell_type": "markdown",
   "id": "9772f720",
   "metadata": {
    "papermill": {
     "duration": 0.013644,
     "end_time": "2024-07-17T19:14:31.638701",
     "exception": false,
     "start_time": "2024-07-17T19:14:31.625057",
     "status": "completed"
    },
    "tags": []
   },
   "source": [
    "**Observations**<br>\n",
    "The Applicant Income, Coapplicant Income and Loan Amount mean and max value has a huge gap, which shows presence of Outliers."
   ]
  },
  {
   "cell_type": "code",
   "execution_count": 7,
   "id": "b2389522",
   "metadata": {
    "execution": {
     "iopub.execute_input": "2024-07-17T19:14:31.668770Z",
     "iopub.status.busy": "2024-07-17T19:14:31.668385Z",
     "iopub.status.idle": "2024-07-17T19:14:31.697043Z",
     "shell.execute_reply": "2024-07-17T19:14:31.695714Z"
    },
    "papermill": {
     "duration": 0.046511,
     "end_time": "2024-07-17T19:14:31.699526",
     "exception": false,
     "start_time": "2024-07-17T19:14:31.653015",
     "status": "completed"
    },
    "tags": []
   },
   "outputs": [
    {
     "data": {
      "text/html": [
       "<div>\n",
       "<style scoped>\n",
       "    .dataframe tbody tr th:only-of-type {\n",
       "        vertical-align: middle;\n",
       "    }\n",
       "\n",
       "    .dataframe tbody tr th {\n",
       "        vertical-align: top;\n",
       "    }\n",
       "\n",
       "    .dataframe thead th {\n",
       "        text-align: right;\n",
       "    }\n",
       "</style>\n",
       "<table border=\"1\" class=\"dataframe\">\n",
       "  <thead>\n",
       "    <tr style=\"text-align: right;\">\n",
       "      <th></th>\n",
       "      <th>Loan_ID</th>\n",
       "      <th>Gender</th>\n",
       "      <th>Married</th>\n",
       "      <th>Dependents</th>\n",
       "      <th>Education</th>\n",
       "      <th>Self_Employed</th>\n",
       "      <th>Property_Area</th>\n",
       "      <th>Loan_Status</th>\n",
       "    </tr>\n",
       "  </thead>\n",
       "  <tbody>\n",
       "    <tr>\n",
       "      <th>count</th>\n",
       "      <td>614</td>\n",
       "      <td>601</td>\n",
       "      <td>611</td>\n",
       "      <td>599</td>\n",
       "      <td>614</td>\n",
       "      <td>582</td>\n",
       "      <td>614</td>\n",
       "      <td>614</td>\n",
       "    </tr>\n",
       "    <tr>\n",
       "      <th>unique</th>\n",
       "      <td>614</td>\n",
       "      <td>2</td>\n",
       "      <td>2</td>\n",
       "      <td>4</td>\n",
       "      <td>2</td>\n",
       "      <td>2</td>\n",
       "      <td>3</td>\n",
       "      <td>2</td>\n",
       "    </tr>\n",
       "    <tr>\n",
       "      <th>top</th>\n",
       "      <td>LP001002</td>\n",
       "      <td>Male</td>\n",
       "      <td>Yes</td>\n",
       "      <td>0</td>\n",
       "      <td>Graduate</td>\n",
       "      <td>No</td>\n",
       "      <td>Semiurban</td>\n",
       "      <td>Y</td>\n",
       "    </tr>\n",
       "    <tr>\n",
       "      <th>freq</th>\n",
       "      <td>1</td>\n",
       "      <td>489</td>\n",
       "      <td>398</td>\n",
       "      <td>345</td>\n",
       "      <td>480</td>\n",
       "      <td>500</td>\n",
       "      <td>233</td>\n",
       "      <td>422</td>\n",
       "    </tr>\n",
       "  </tbody>\n",
       "</table>\n",
       "</div>"
      ],
      "text/plain": [
       "         Loan_ID Gender Married Dependents Education Self_Employed  \\\n",
       "count        614    601     611        599       614           582   \n",
       "unique       614      2       2          4         2             2   \n",
       "top     LP001002   Male     Yes          0  Graduate            No   \n",
       "freq           1    489     398        345       480           500   \n",
       "\n",
       "       Property_Area Loan_Status  \n",
       "count            614         614  \n",
       "unique             3           2  \n",
       "top        Semiurban           Y  \n",
       "freq             233         422  "
      ]
     },
     "execution_count": 7,
     "metadata": {},
     "output_type": "execute_result"
    }
   ],
   "source": [
    "# Understanding the categorical data columns\n",
    "data.describe(include='object')"
   ]
  },
  {
   "cell_type": "markdown",
   "id": "853978a7",
   "metadata": {
    "papermill": {
     "duration": 0.013494,
     "end_time": "2024-07-17T19:14:31.726857",
     "exception": false,
     "start_time": "2024-07-17T19:14:31.713363",
     "status": "completed"
    },
    "tags": []
   },
   "source": [
    "**Observations**<br>\n",
    "The Gender,married ,Education, Self employed and Loan status has imbalanced data"
   ]
  },
  {
   "cell_type": "code",
   "execution_count": 8,
   "id": "4f9db0a0",
   "metadata": {
    "execution": {
     "iopub.execute_input": "2024-07-17T19:14:31.757024Z",
     "iopub.status.busy": "2024-07-17T19:14:31.756631Z",
     "iopub.status.idle": "2024-07-17T19:14:31.766133Z",
     "shell.execute_reply": "2024-07-17T19:14:31.764931Z"
    },
    "papermill": {
     "duration": 0.027596,
     "end_time": "2024-07-17T19:14:31.768643",
     "exception": false,
     "start_time": "2024-07-17T19:14:31.741047",
     "status": "completed"
    },
    "tags": []
   },
   "outputs": [
    {
     "data": {
      "text/plain": [
       "Loan_Status\n",
       "Y    422\n",
       "N    192\n",
       "Name: count, dtype: int64"
      ]
     },
     "execution_count": 8,
     "metadata": {},
     "output_type": "execute_result"
    }
   ],
   "source": [
    "data['Loan_Status'].value_counts()"
   ]
  },
  {
   "cell_type": "code",
   "execution_count": 9,
   "id": "b57b3037",
   "metadata": {
    "execution": {
     "iopub.execute_input": "2024-07-17T19:14:31.798081Z",
     "iopub.status.busy": "2024-07-17T19:14:31.797689Z",
     "iopub.status.idle": "2024-07-17T19:14:32.126410Z",
     "shell.execute_reply": "2024-07-17T19:14:32.125181Z"
    },
    "papermill": {
     "duration": 0.346343,
     "end_time": "2024-07-17T19:14:32.128897",
     "exception": false,
     "start_time": "2024-07-17T19:14:31.782554",
     "status": "completed"
    },
    "tags": []
   },
   "outputs": [
    {
     "data": {
      "text/plain": [
       "<Axes: xlabel='Loan_Status', ylabel='count'>"
      ]
     },
     "execution_count": 9,
     "metadata": {},
     "output_type": "execute_result"
    },
    {
     "data": {
      "image/png": "[encoded data removed]",
      "text/plain": [
       "<Figure size 640x480 with 1 Axes>"
      ]
     },
     "metadata": {},
     "output_type": "display_data"
    }
   ],
   "source": [
    "sns.countplot(data,x=data['Loan_Status'])"
   ]
  },
  {
   "cell_type": "code",
   "execution_count": 10,
   "id": "91f4feb4",
   "metadata": {
    "execution": {
     "iopub.execute_input": "2024-07-17T19:14:32.160747Z",
     "iopub.status.busy": "2024-07-17T19:14:32.160354Z",
     "iopub.status.idle": "2024-07-17T19:14:32.169861Z",
     "shell.execute_reply": "2024-07-17T19:14:32.168684Z"
    },
    "papermill": {
     "duration": 0.028288,
     "end_time": "2024-07-17T19:14:32.172372",
     "exception": false,
     "start_time": "2024-07-17T19:14:32.144084",
     "status": "completed"
    },
    "tags": []
   },
   "outputs": [
    {
     "data": {
      "text/plain": [
       "Loan_ID               0\n",
       "Gender               13\n",
       "Married               3\n",
       "Dependents           15\n",
       "Education             0\n",
       "Self_Employed        32\n",
       "ApplicantIncome       0\n",
       "CoapplicantIncome     0\n",
       "LoanAmount           22\n",
       "Loan_Amount_Term     14\n",
       "Credit_History       50\n",
       "Property_Area         0\n",
       "Loan_Status           0\n",
       "dtype: int64"
      ]
     },
     "execution_count": 10,
     "metadata": {},
     "output_type": "execute_result"
    }
   ],
   "source": [
    "data.isnull().sum()"
   ]
  },
  {
   "cell_type": "code",
   "execution_count": 11,
   "id": "d1f0f4f7",
   "metadata": {
    "execution": {
     "iopub.execute_input": "2024-07-17T19:14:32.203571Z",
     "iopub.status.busy": "2024-07-17T19:14:32.203203Z",
     "iopub.status.idle": "2024-07-17T19:14:32.218731Z",
     "shell.execute_reply": "2024-07-17T19:14:32.217634Z"
    },
    "papermill": {
     "duration": 0.034267,
     "end_time": "2024-07-17T19:14:32.221356",
     "exception": false,
     "start_time": "2024-07-17T19:14:32.187089",
     "status": "completed"
    },
    "tags": []
   },
   "outputs": [],
   "source": [
    "# Fixing out the null values\n",
    "# Numerical values with the median and Categorical values with the mode\n",
    "# Null value columns: Gender, Married, Dependents, Self_Employed, LoanAmount, Loan_Amount_Term, Credit_History\n",
    "\n",
    "# Categorical data\n",
    "data['Gender'] = data['Gender'].fillna(data['Gender'].mode()[0])\n",
    "data['Married'] = data['Married'].fillna(data['Married'].mode()[0])\n",
    "data['Dependents'] = data['Dependents'].fillna(data['Dependents'].mode()[0])\n",
    "data['Self_Employed'] = data['Self_Employed'].fillna(data['Self_Employed'].mode()[0])\n",
    "\n",
    "# Numerical data\n",
    "data['LoanAmount'] = data['LoanAmount'].fillna(data['LoanAmount'].median())\n",
    "data['Loan_Amount_Term'] = data['Loan_Amount_Term'].fillna(data['Loan_Amount_Term'].median())\n",
    "data['Credit_History'] = data['Credit_History'].fillna(data['Credit_History'].median())\n"
   ]
  },
  {
   "cell_type": "code",
   "execution_count": 12,
   "id": "3979c17f",
   "metadata": {
    "execution": {
     "iopub.execute_input": "2024-07-17T19:14:32.252914Z",
     "iopub.status.busy": "2024-07-17T19:14:32.252118Z",
     "iopub.status.idle": "2024-07-17T19:14:32.261248Z",
     "shell.execute_reply": "2024-07-17T19:14:32.260209Z"
    },
    "papermill": {
     "duration": 0.027403,
     "end_time": "2024-07-17T19:14:32.263706",
     "exception": false,
     "start_time": "2024-07-17T19:14:32.236303",
     "status": "completed"
    },
    "tags": []
   },
   "outputs": [
    {
     "data": {
      "text/plain": [
       "Loan_ID              0\n",
       "Gender               0\n",
       "Married              0\n",
       "Dependents           0\n",
       "Education            0\n",
       "Self_Employed        0\n",
       "ApplicantIncome      0\n",
       "CoapplicantIncome    0\n",
       "LoanAmount           0\n",
       "Loan_Amount_Term     0\n",
       "Credit_History       0\n",
       "Property_Area        0\n",
       "Loan_Status          0\n",
       "dtype: int64"
      ]
     },
     "execution_count": 12,
     "metadata": {},
     "output_type": "execute_result"
    }
   ],
   "source": [
    "data.isnull().sum()"
   ]
  },
  {
   "cell_type": "markdown",
   "id": "24f385fa",
   "metadata": {
    "papermill": {
     "duration": 0.014522,
     "end_time": "2024-07-17T19:14:32.293657",
     "exception": false,
     "start_time": "2024-07-17T19:14:32.279135",
     "status": "completed"
    },
    "tags": []
   },
   "source": [
    "**Observations**<br>\n",
    "All the null value columns has been addressed."
   ]
  },
  {
   "cell_type": "markdown",
   "id": "9ff30532",
   "metadata": {
    "papermill": {
     "duration": 0.014265,
     "end_time": "2024-07-17T19:14:32.322653",
     "exception": false,
     "start_time": "2024-07-17T19:14:32.308388",
     "status": "completed"
    },
    "tags": []
   },
   "source": [
    "#### Detecting Outliers and handling them"
   ]
  },
  {
   "cell_type": "code",
   "execution_count": 13,
   "id": "ff705a77",
   "metadata": {
    "execution": {
     "iopub.execute_input": "2024-07-17T19:14:32.353653Z",
     "iopub.status.busy": "2024-07-17T19:14:32.353274Z",
     "iopub.status.idle": "2024-07-17T19:14:32.845078Z",
     "shell.execute_reply": "2024-07-17T19:14:32.843914Z"
    },
    "papermill": {
     "duration": 0.510123,
     "end_time": "2024-07-17T19:14:32.847643",
     "exception": false,
     "start_time": "2024-07-17T19:14:32.337520",
     "status": "completed"
    },
    "tags": []
   },
   "outputs": [
    {
     "data": {
      "image/png": "[encoded data removed]",
      "text/plain": [
       "<Figure size 1200x400 with 3 Axes>"
      ]
     },
     "metadata": {},
     "output_type": "display_data"
    }
   ],
   "source": [
    "# ApplicantIncome\tCoapplicantIncome\tLoanAmount\t\n",
    "plt.rcParams['figure.figsize']=(12,4)\n",
    "\n",
    "plt.subplot(1,3,1)\n",
    "sns.boxplot(data['ApplicantIncome'])\n",
    "plt.title('Applicant Income')\n",
    "\n",
    "plt.subplot(1,3,2)\n",
    "sns.boxplot(data['CoapplicantIncome'])\n",
    "plt.title('Coapplicant Income')\n",
    "\n",
    "plt.subplot(1,3,3)\n",
    "sns.boxplot(data['LoanAmount'])\n",
    "plt.title('Loan Amount')\n",
    "\n",
    "plt.show()"
   ]
  },
  {
   "cell_type": "markdown",
   "id": "7544b035",
   "metadata": {
    "papermill": {
     "duration": 0.014923,
     "end_time": "2024-07-17T19:14:32.877816",
     "exception": false,
     "start_time": "2024-07-17T19:14:32.862893",
     "status": "completed"
    },
    "tags": []
   },
   "source": [
    "**Observations**<br>\n",
    "1. Applicant Income:\n",
    "    * Majority of the applicant's income lies below 25k, hence we take the threshold as 25k\n",
    "2. Coapplicant Income:\n",
    "    * Majority of the coapplicant's income lies below 10k, hence we take the threshold as 10\n",
    "3. Loan Amount:\n",
    "    * Majority of the loan amount points lies below 400-500, hence we take the threshold as 400"
   ]
  },
  {
   "cell_type": "code",
   "execution_count": 14,
   "id": "aea19b01",
   "metadata": {
    "execution": {
     "iopub.execute_input": "2024-07-17T19:14:32.970070Z",
     "iopub.status.busy": "2024-07-17T19:14:32.969632Z",
     "iopub.status.idle": "2024-07-17T19:14:32.982666Z",
     "shell.execute_reply": "2024-07-17T19:14:32.981398Z"
    },
    "papermill": {
     "duration": 0.032411,
     "end_time": "2024-07-17T19:14:32.985209",
     "exception": false,
     "start_time": "2024-07-17T19:14:32.952798",
     "status": "completed"
    },
    "tags": []
   },
   "outputs": [
    {
     "name": "stdout",
     "output_type": "stream",
     "text": [
      "Before removing the outliers: (614, 13)\n",
      "After removing the outliers: (607, 13)\n"
     ]
    }
   ],
   "source": [
    "print(f'Before removing the outliers: {data.shape}')\n",
    "data = data[data['ApplicantIncome']<25000]\n",
    "print(f'After removing the outliers: {data.shape}')"
   ]
  },
  {
   "cell_type": "code",
   "execution_count": 15,
   "id": "5284bdf0",
   "metadata": {
    "execution": {
     "iopub.execute_input": "2024-07-17T19:14:33.019626Z",
     "iopub.status.busy": "2024-07-17T19:14:33.019231Z",
     "iopub.status.idle": "2024-07-17T19:14:33.027915Z",
     "shell.execute_reply": "2024-07-17T19:14:33.026390Z"
    },
    "papermill": {
     "duration": 0.028486,
     "end_time": "2024-07-17T19:14:33.030191",
     "exception": false,
     "start_time": "2024-07-17T19:14:33.001705",
     "status": "completed"
    },
    "tags": []
   },
   "outputs": [
    {
     "name": "stdout",
     "output_type": "stream",
     "text": [
      "Before removing the outliers: (607, 13)\n",
      "After removing the outliers: (601, 13)\n"
     ]
    }
   ],
   "source": [
    "print(f'Before removing the outliers: {data.shape}')\n",
    "data= data[data['CoapplicantIncome']<10000]\n",
    "print(f'After removing the outliers: {data.shape}')"
   ]
  },
  {
   "cell_type": "code",
   "execution_count": 16,
   "id": "1f21937a",
   "metadata": {
    "execution": {
     "iopub.execute_input": "2024-07-17T19:14:33.064693Z",
     "iopub.status.busy": "2024-07-17T19:14:33.063439Z",
     "iopub.status.idle": "2024-07-17T19:14:33.072132Z",
     "shell.execute_reply": "2024-07-17T19:14:33.070791Z"
    },
    "papermill": {
     "duration": 0.028171,
     "end_time": "2024-07-17T19:14:33.074413",
     "exception": false,
     "start_time": "2024-07-17T19:14:33.046242",
     "status": "completed"
    },
    "tags": []
   },
   "outputs": [
    {
     "name": "stdout",
     "output_type": "stream",
     "text": [
      "Before removing the outliers: (601, 13)\n",
      "After removing the outliers: (590, 13)\n"
     ]
    }
   ],
   "source": [
    "print(f'Before removing the outliers: {data.shape}')\n",
    "data = data[data['LoanAmount']<400]\n",
    "print(f'After removing the outliers: {data.shape}')"
   ]
  },
  {
   "cell_type": "code",
   "execution_count": 17,
   "id": "1e2e855c",
   "metadata": {
    "execution": {
     "iopub.execute_input": "2024-07-17T19:14:33.107763Z",
     "iopub.status.busy": "2024-07-17T19:14:33.107340Z",
     "iopub.status.idle": "2024-07-17T19:14:33.598171Z",
     "shell.execute_reply": "2024-07-17T19:14:33.596822Z"
    },
    "papermill": {
     "duration": 0.510412,
     "end_time": "2024-07-17T19:14:33.600518",
     "exception": false,
     "start_time": "2024-07-17T19:14:33.090106",
     "status": "completed"
    },
    "tags": []
   },
   "outputs": [
    {
     "data": {
      "image/png": "[encoded data removed]",
      "text/plain": [
       "<Figure size 1200x400 with 3 Axes>"
      ]
     },
     "metadata": {},
     "output_type": "display_data"
    }
   ],
   "source": [
    "# ApplicantIncome\tCoapplicantIncome\tLoanAmount\t\n",
    "plt.rcParams['figure.figsize']=(12,4)\n",
    "\n",
    "plt.subplot(1,3,1)\n",
    "sns.boxplot(data['ApplicantIncome'])\n",
    "plt.title('Applicant Income')\n",
    "\n",
    "plt.subplot(1,3,2)\n",
    "sns.boxplot(data['CoapplicantIncome'])\n",
    "plt.title('Coapplicant Income')\n",
    "\n",
    "plt.subplot(1,3,3)\n",
    "sns.boxplot(data['LoanAmount'])\n",
    "plt.title('Loan Amount')\n",
    "\n",
    "plt.show()"
   ]
  },
  {
   "cell_type": "markdown",
   "id": "f92841fb",
   "metadata": {
    "papermill": {
     "duration": 0.016028,
     "end_time": "2024-07-17T19:14:33.632885",
     "exception": false,
     "start_time": "2024-07-17T19:14:33.616857",
     "status": "completed"
    },
    "tags": []
   },
   "source": [
    "**Observation**<br>\n",
    "Post removal of outliers, we were able to retain 96% of data. i.e from 614 rows we have more 590 rows left."
   ]
  },
  {
   "cell_type": "markdown",
   "id": "c9e9d956",
   "metadata": {
    "papermill": {
     "duration": 0.017772,
     "end_time": "2024-07-17T19:14:33.667692",
     "exception": false,
     "start_time": "2024-07-17T19:14:33.649920",
     "status": "completed"
    },
    "tags": []
   },
   "source": [
    "#### Normalise the numerical data"
   ]
  },
  {
   "cell_type": "code",
   "execution_count": 18,
   "id": "ebbdf9cb",
   "metadata": {
    "execution": {
     "iopub.execute_input": "2024-07-17T19:14:33.703802Z",
     "iopub.status.busy": "2024-07-17T19:14:33.703396Z",
     "iopub.status.idle": "2024-07-17T19:14:34.459606Z",
     "shell.execute_reply": "2024-07-17T19:14:34.458110Z"
    },
    "papermill": {
     "duration": 0.777266,
     "end_time": "2024-07-17T19:14:34.462497",
     "exception": false,
     "start_time": "2024-07-17T19:14:33.685231",
     "status": "completed"
    },
    "tags": []
   },
   "outputs": [
    {
     "data": {
      "image/png": "[encoded data removed]",
      "text/plain": [
       "<Figure size 1200x400 with 3 Axes>"
      ]
     },
     "metadata": {},
     "output_type": "display_data"
    }
   ],
   "source": [
    "# Checking the rows with outliers are in normal distribution form\n",
    "\n",
    "plt.subplot(1,3,1)\n",
    "sns.distplot(data['ApplicantIncome'], color='green')\n",
    "\n",
    "plt.subplot(1,3,2)\n",
    "sns.distplot(data['CoapplicantIncome'], color='green')\n",
    "\n",
    "plt.subplot(1,3,3)\n",
    "sns.distplot(data['LoanAmount'], color='green')\n",
    "\n",
    "plt.suptitle(\"Before Normalisation\")\n",
    "plt.show()"
   ]
  },
  {
   "cell_type": "markdown",
   "id": "3cb5ecd0",
   "metadata": {
    "papermill": {
     "duration": 0.021553,
     "end_time": "2024-07-17T19:14:34.501978",
     "exception": false,
     "start_time": "2024-07-17T19:14:34.480425",
     "status": "completed"
    },
    "tags": []
   },
   "source": [
    "As the numerical data we are seeing is having different scales in x axis, hence we will normalise them."
   ]
  },
  {
   "cell_type": "code",
   "execution_count": 19,
   "id": "1d60066f",
   "metadata": {
    "execution": {
     "iopub.execute_input": "2024-07-17T19:14:34.554595Z",
     "iopub.status.busy": "2024-07-17T19:14:34.554088Z",
     "iopub.status.idle": "2024-07-17T19:14:34.563202Z",
     "shell.execute_reply": "2024-07-17T19:14:34.561792Z"
    },
    "papermill": {
     "duration": 0.037966,
     "end_time": "2024-07-17T19:14:34.565762",
     "exception": false,
     "start_time": "2024-07-17T19:14:34.527796",
     "status": "completed"
    },
    "tags": []
   },
   "outputs": [],
   "source": [
    "# applying log normal distribution\n",
    "data['ApplicantIncome'] = np.log(data['ApplicantIncome'])\n",
    "data['CoapplicantIncome'] = np.log1p(data['CoapplicantIncome'])\n",
    "data['LoanAmount'] = np.log(data['LoanAmount'])"
   ]
  },
  {
   "cell_type": "code",
   "execution_count": 20,
   "id": "a6fb0ba4",
   "metadata": {
    "execution": {
     "iopub.execute_input": "2024-07-17T19:14:34.603028Z",
     "iopub.status.busy": "2024-07-17T19:14:34.602599Z",
     "iopub.status.idle": "2024-07-17T19:14:35.411803Z",
     "shell.execute_reply": "2024-07-17T19:14:35.410246Z"
    },
    "papermill": {
     "duration": 0.832611,
     "end_time": "2024-07-17T19:14:35.416139",
     "exception": false,
     "start_time": "2024-07-17T19:14:34.583528",
     "status": "completed"
    },
    "tags": []
   },
   "outputs": [
    {
     "data": {
      "image/png": "[encoded data removed]",
      "text/plain": [
       "<Figure size 1200x400 with 3 Axes>"
      ]
     },
     "metadata": {},
     "output_type": "display_data"
    }
   ],
   "source": [
    "# Checking the rows with outliers are in normal distribution form\n",
    "\n",
    "plt.subplot(1,3,1)\n",
    "sns.distplot(data['ApplicantIncome'], color='green')\n",
    "\n",
    "plt.subplot(1,3,2)\n",
    "sns.distplot(data['CoapplicantIncome'], color='red')\n",
    "\n",
    "plt.subplot(1,3,3)\n",
    "sns.distplot(data['LoanAmount'], color='blue')\n",
    "\n",
    "plt.suptitle(\"After Log Transformation\")\n",
    "plt.show()"
   ]
  },
  {
   "cell_type": "markdown",
   "id": "fdad0e8b",
   "metadata": {
    "papermill": {
     "duration": 0.01889,
     "end_time": "2024-07-17T19:14:35.454148",
     "exception": false,
     "start_time": "2024-07-17T19:14:35.435258",
     "status": "completed"
    },
    "tags": []
   },
   "source": [
    "numerical data is not normally distributed."
   ]
  },
  {
   "cell_type": "markdown",
   "id": "19b03268",
   "metadata": {
    "papermill": {
     "duration": 0.018134,
     "end_time": "2024-07-17T19:14:35.490460",
     "exception": false,
     "start_time": "2024-07-17T19:14:35.472326",
     "status": "completed"
    },
    "tags": []
   },
   "source": [
    "#### Analysis of dataset"
   ]
  },
  {
   "cell_type": "code",
   "execution_count": 21,
   "id": "de9c66c9",
   "metadata": {
    "execution": {
     "iopub.execute_input": "2024-07-17T19:14:35.529319Z",
     "iopub.status.busy": "2024-07-17T19:14:35.528536Z",
     "iopub.status.idle": "2024-07-17T19:14:35.536295Z",
     "shell.execute_reply": "2024-07-17T19:14:35.535274Z"
    },
    "papermill": {
     "duration": 0.029578,
     "end_time": "2024-07-17T19:14:35.538597",
     "exception": false,
     "start_time": "2024-07-17T19:14:35.509019",
     "status": "completed"
    },
    "tags": []
   },
   "outputs": [],
   "source": [
    "# segregating numerical and categorical data\n",
    "numerical = data.select_dtypes('number').columns.tolist()\n",
    "categorical = data.select_dtypes('object').columns.tolist()"
   ]
  },
  {
   "cell_type": "code",
   "execution_count": 22,
   "id": "f335c280",
   "metadata": {
    "execution": {
     "iopub.execute_input": "2024-07-17T19:14:35.578464Z",
     "iopub.status.busy": "2024-07-17T19:14:35.578072Z",
     "iopub.status.idle": "2024-07-17T19:14:35.583956Z",
     "shell.execute_reply": "2024-07-17T19:14:35.582706Z"
    },
    "papermill": {
     "duration": 0.027725,
     "end_time": "2024-07-17T19:14:35.586390",
     "exception": false,
     "start_time": "2024-07-17T19:14:35.558665",
     "status": "completed"
    },
    "tags": []
   },
   "outputs": [
    {
     "name": "stdout",
     "output_type": "stream",
     "text": [
      "Numerical data columns: ['ApplicantIncome', 'CoapplicantIncome', 'LoanAmount', 'Loan_Amount_Term', 'Credit_History']\n",
      "Categorical data columns: ['Loan_ID', 'Gender', 'Married', 'Dependents', 'Education', 'Self_Employed', 'Property_Area', 'Loan_Status']\n"
     ]
    }
   ],
   "source": [
    "print(\"Numerical data columns:\",numerical)\n",
    "print(\"Categorical data columns:\",categorical)"
   ]
  },
  {
   "cell_type": "markdown",
   "id": "ac82732b",
   "metadata": {
    "papermill": {
     "duration": 0.01795,
     "end_time": "2024-07-17T19:14:35.622748",
     "exception": false,
     "start_time": "2024-07-17T19:14:35.604798",
     "status": "completed"
    },
    "tags": []
   },
   "source": [
    "Visualizing the num and cat columns"
   ]
  },
  {
   "cell_type": "code",
   "execution_count": 23,
   "id": "b61a9b2f",
   "metadata": {
    "execution": {
     "iopub.execute_input": "2024-07-17T19:14:35.661398Z",
     "iopub.status.busy": "2024-07-17T19:14:35.660980Z",
     "iopub.status.idle": "2024-07-17T19:14:50.214737Z",
     "shell.execute_reply": "2024-07-17T19:14:50.212875Z"
    },
    "papermill": {
     "duration": 14.576403,
     "end_time": "2024-07-17T19:14:50.217753",
     "exception": false,
     "start_time": "2024-07-17T19:14:35.641350",
     "status": "completed"
    },
    "tags": []
   },
   "outputs": [
    {
     "data": {
      "image/png": "[encoded data removed]",
      "text/plain": [
       "<Figure size 1500x1000 with 1 Axes>"
      ]
     },
     "metadata": {},
     "output_type": "display_data"
    },
    {
     "data": {
      "image/png": "[encoded data removed]",
      "text/plain": [
       "<Figure size 1500x1000 with 1 Axes>"
      ]
     },
     "metadata": {},
     "output_type": "display_data"
    },
    {
     "data": {
      "image/png": "[encoded data removed]",
      "text/plain": [
       "<Figure size 1500x1000 with 1 Axes>"
      ]
     },
     "metadata": {},
     "output_type": "display_data"
    },
    {
     "data": {
      "image/png": "[encoded data removed]",
      "text/plain": [
       "<Figure size 1500x1000 with 1 Axes>"
      ]
     },
     "metadata": {},
     "output_type": "display_data"
    },
    {
     "data": {
      "image/png": "[encoded data removed]",
      "text/plain": [
       "<Figure size 1500x1000 with 1 Axes>"
      ]
     },
     "metadata": {},
     "output_type": "display_data"
    }
   ],
   "source": [
    "for i in numerical:\n",
    "    plt.figure(figsize=(15,10))\n",
    "    plt.subplot(2,3,1)\n",
    "    sns.countplot(data = data, x=i, hue='Loan_Status')\n",
    "    plt.xlabel(i, fontsize=15)"
   ]
  },
  {
   "cell_type": "markdown",
   "id": "a1b29677",
   "metadata": {
    "papermill": {
     "duration": 0.021305,
     "end_time": "2024-07-17T19:14:50.259341",
     "exception": false,
     "start_time": "2024-07-17T19:14:50.238036",
     "status": "completed"
    },
    "tags": []
   },
   "source": [
    "**Observation**<br>\n",
    "Applicant who has a credit history are more likely for a loan approval"
   ]
  },
  {
   "cell_type": "code",
   "execution_count": 24,
   "id": "0ed4d105",
   "metadata": {
    "execution": {
     "iopub.execute_input": "2024-07-17T19:14:50.302828Z",
     "iopub.status.busy": "2024-07-17T19:14:50.302383Z",
     "iopub.status.idle": "2024-07-17T19:14:59.804830Z",
     "shell.execute_reply": "2024-07-17T19:14:59.803403Z"
    },
    "papermill": {
     "duration": 9.52706,
     "end_time": "2024-07-17T19:14:59.807348",
     "exception": false,
     "start_time": "2024-07-17T19:14:50.280288",
     "status": "completed"
    },
    "tags": []
   },
   "outputs": [
    {
     "data": {
      "image/png": "[encoded data removed]",
      "text/plain": [
       "<Figure size 1500x1000 with 1 Axes>"
      ]
     },
     "metadata": {},
     "output_type": "display_data"
    },
    {
     "data": {
      "image/png": "[encoded data removed]",
      "text/plain": [
       "<Figure size 1500x1000 with 1 Axes>"
      ]
     },
     "metadata": {},
     "output_type": "display_data"
    },
    {
     "data": {
      "image/png": "[encoded data removed]",
      "text/plain": [
       "<Figure size 1500x1000 with 1 Axes>"
      ]
     },
     "metadata": {},
     "output_type": "display_data"
    },
    {
     "data": {
      "image/png": "[encoded data removed]",
      "text/plain": [
       "<Figure size 1500x1000 with 1 Axes>"
      ]
     },
     "metadata": {},
     "output_type": "display_data"
    },
    {
     "data": {
      "image/png": "[encoded data removed]",
      "text/plain": [
       "<Figure size 1500x1000 with 1 Axes>"
      ]
     },
     "metadata": {},
     "output_type": "display_data"
    },
    {
     "data": {
      "image/png": "[encoded data removed]",
      "text/plain": [
       "<Figure size 1500x1000 with 1 Axes>"
      ]
     },
     "metadata": {},
     "output_type": "display_data"
    },
    {
     "data": {
      "image/png": "[encoded data removed]",
      "text/plain": [
       "<Figure size 1500x1000 with 1 Axes>"
      ]
     },
     "metadata": {},
     "output_type": "display_data"
    }
   ],
   "source": [
    "for i in categorical[:-1]:\n",
    "    plt.figure(figsize=(15,10))\n",
    "    plt.subplot(2,3,1)\n",
    "    sns.countplot(data = data, x=i, hue='Loan_Status')\n",
    "    plt.xlabel(i, fontsize=15)"
   ]
  },
  {
   "cell_type": "markdown",
   "id": "6a17fe1d",
   "metadata": {
    "papermill": {
     "duration": 0.021843,
     "end_time": "2024-07-17T19:14:59.852289",
     "exception": false,
     "start_time": "2024-07-17T19:14:59.830446",
     "status": "completed"
    },
    "tags": []
   },
   "source": [
    "**Observations:**<br>\n",
    "1. Loan if approved for males than females\n",
    "2. If the person is married then yes\n",
    "3. Better the chance if no dependencies and he is graduated and not self-employed\n",
    "4. A better chance of acceptance if an applicant is from semiurban than urban than rural."
   ]
  },
  {
   "cell_type": "markdown",
   "id": "cad8b108",
   "metadata": {
    "papermill": {
     "duration": 0.021849,
     "end_time": "2024-07-17T19:14:59.896283",
     "exception": false,
     "start_time": "2024-07-17T19:14:59.874434",
     "status": "completed"
    },
    "tags": []
   },
   "source": [
    "#### Data Preparation"
   ]
  },
  {
   "cell_type": "markdown",
   "id": "5f1c0627",
   "metadata": {
    "papermill": {
     "duration": 0.023288,
     "end_time": "2024-07-17T19:14:59.941786",
     "exception": false,
     "start_time": "2024-07-17T19:14:59.918498",
     "status": "completed"
    },
    "tags": []
   },
   "source": [
    "Handling the categorical data by encoding them.."
   ]
  },
  {
   "cell_type": "code",
   "execution_count": 25,
   "id": "44335866",
   "metadata": {
    "execution": {
     "iopub.execute_input": "2024-07-17T19:14:59.990029Z",
     "iopub.status.busy": "2024-07-17T19:14:59.989557Z",
     "iopub.status.idle": "2024-07-17T19:15:00.007261Z",
     "shell.execute_reply": "2024-07-17T19:15:00.006027Z"
    },
    "papermill": {
     "duration": 0.044087,
     "end_time": "2024-07-17T19:15:00.009656",
     "exception": false,
     "start_time": "2024-07-17T19:14:59.965569",
     "status": "completed"
    },
    "tags": []
   },
   "outputs": [
    {
     "data": {
      "text/html": [
       "<div>\n",
       "<style scoped>\n",
       "    .dataframe tbody tr th:only-of-type {\n",
       "        vertical-align: middle;\n",
       "    }\n",
       "\n",
       "    .dataframe tbody tr th {\n",
       "        vertical-align: top;\n",
       "    }\n",
       "\n",
       "    .dataframe thead th {\n",
       "        text-align: right;\n",
       "    }\n",
       "</style>\n",
       "<table border=\"1\" class=\"dataframe\">\n",
       "  <thead>\n",
       "    <tr style=\"text-align: right;\">\n",
       "      <th></th>\n",
       "      <th>Loan_ID</th>\n",
       "      <th>Gender</th>\n",
       "      <th>Married</th>\n",
       "      <th>Dependents</th>\n",
       "      <th>Education</th>\n",
       "      <th>Self_Employed</th>\n",
       "      <th>Property_Area</th>\n",
       "      <th>Loan_Status</th>\n",
       "    </tr>\n",
       "  </thead>\n",
       "  <tbody>\n",
       "    <tr>\n",
       "      <th>0</th>\n",
       "      <td>LP001002</td>\n",
       "      <td>Male</td>\n",
       "      <td>No</td>\n",
       "      <td>0</td>\n",
       "      <td>Graduate</td>\n",
       "      <td>No</td>\n",
       "      <td>Urban</td>\n",
       "      <td>Y</td>\n",
       "    </tr>\n",
       "    <tr>\n",
       "      <th>1</th>\n",
       "      <td>LP001003</td>\n",
       "      <td>Male</td>\n",
       "      <td>Yes</td>\n",
       "      <td>1</td>\n",
       "      <td>Graduate</td>\n",
       "      <td>No</td>\n",
       "      <td>Rural</td>\n",
       "      <td>N</td>\n",
       "    </tr>\n",
       "    <tr>\n",
       "      <th>2</th>\n",
       "      <td>LP001005</td>\n",
       "      <td>Male</td>\n",
       "      <td>Yes</td>\n",
       "      <td>0</td>\n",
       "      <td>Graduate</td>\n",
       "      <td>Yes</td>\n",
       "      <td>Urban</td>\n",
       "      <td>Y</td>\n",
       "    </tr>\n",
       "    <tr>\n",
       "      <th>3</th>\n",
       "      <td>LP001006</td>\n",
       "      <td>Male</td>\n",
       "      <td>Yes</td>\n",
       "      <td>0</td>\n",
       "      <td>Not Graduate</td>\n",
       "      <td>No</td>\n",
       "      <td>Urban</td>\n",
       "      <td>Y</td>\n",
       "    </tr>\n",
       "    <tr>\n",
       "      <th>4</th>\n",
       "      <td>LP001008</td>\n",
       "      <td>Male</td>\n",
       "      <td>No</td>\n",
       "      <td>0</td>\n",
       "      <td>Graduate</td>\n",
       "      <td>No</td>\n",
       "      <td>Urban</td>\n",
       "      <td>Y</td>\n",
       "    </tr>\n",
       "  </tbody>\n",
       "</table>\n",
       "</div>"
      ],
      "text/plain": [
       "    Loan_ID Gender Married Dependents     Education Self_Employed  \\\n",
       "0  LP001002   Male      No          0      Graduate            No   \n",
       "1  LP001003   Male     Yes          1      Graduate            No   \n",
       "2  LP001005   Male     Yes          0      Graduate           Yes   \n",
       "3  LP001006   Male     Yes          0  Not Graduate            No   \n",
       "4  LP001008   Male      No          0      Graduate            No   \n",
       "\n",
       "  Property_Area Loan_Status  \n",
       "0         Urban           Y  \n",
       "1         Rural           N  \n",
       "2         Urban           Y  \n",
       "3         Urban           Y  \n",
       "4         Urban           Y  "
      ]
     },
     "execution_count": 25,
     "metadata": {},
     "output_type": "execute_result"
    }
   ],
   "source": [
    "data.select_dtypes('object').head()"
   ]
  },
  {
   "cell_type": "code",
   "execution_count": 26,
   "id": "f59a9b18",
   "metadata": {
    "execution": {
     "iopub.execute_input": "2024-07-17T19:15:00.057154Z",
     "iopub.status.busy": "2024-07-17T19:15:00.056710Z",
     "iopub.status.idle": "2024-07-17T19:15:00.074764Z",
     "shell.execute_reply": "2024-07-17T19:15:00.073609Z"
    },
    "papermill": {
     "duration": 0.044778,
     "end_time": "2024-07-17T19:15:00.077167",
     "exception": false,
     "start_time": "2024-07-17T19:15:00.032389",
     "status": "completed"
    },
    "tags": []
   },
   "outputs": [
    {
     "data": {
      "text/html": [
       "<div>\n",
       "<style scoped>\n",
       "    .dataframe tbody tr th:only-of-type {\n",
       "        vertical-align: middle;\n",
       "    }\n",
       "\n",
       "    .dataframe tbody tr th {\n",
       "        vertical-align: top;\n",
       "    }\n",
       "\n",
       "    .dataframe thead th {\n",
       "        text-align: right;\n",
       "    }\n",
       "</style>\n",
       "<table border=\"1\" class=\"dataframe\">\n",
       "  <thead>\n",
       "    <tr style=\"text-align: right;\">\n",
       "      <th></th>\n",
       "      <th>Gender</th>\n",
       "      <th>Married</th>\n",
       "      <th>Dependents</th>\n",
       "      <th>Education</th>\n",
       "      <th>Self_Employed</th>\n",
       "      <th>Property_Area</th>\n",
       "      <th>Loan_Status</th>\n",
       "    </tr>\n",
       "  </thead>\n",
       "  <tbody>\n",
       "    <tr>\n",
       "      <th>0</th>\n",
       "      <td>Male</td>\n",
       "      <td>No</td>\n",
       "      <td>0</td>\n",
       "      <td>Graduate</td>\n",
       "      <td>No</td>\n",
       "      <td>Urban</td>\n",
       "      <td>Y</td>\n",
       "    </tr>\n",
       "    <tr>\n",
       "      <th>1</th>\n",
       "      <td>Male</td>\n",
       "      <td>Yes</td>\n",
       "      <td>1</td>\n",
       "      <td>Graduate</td>\n",
       "      <td>No</td>\n",
       "      <td>Rural</td>\n",
       "      <td>N</td>\n",
       "    </tr>\n",
       "    <tr>\n",
       "      <th>2</th>\n",
       "      <td>Male</td>\n",
       "      <td>Yes</td>\n",
       "      <td>0</td>\n",
       "      <td>Graduate</td>\n",
       "      <td>Yes</td>\n",
       "      <td>Urban</td>\n",
       "      <td>Y</td>\n",
       "    </tr>\n",
       "    <tr>\n",
       "      <th>3</th>\n",
       "      <td>Male</td>\n",
       "      <td>Yes</td>\n",
       "      <td>0</td>\n",
       "      <td>Not Graduate</td>\n",
       "      <td>No</td>\n",
       "      <td>Urban</td>\n",
       "      <td>Y</td>\n",
       "    </tr>\n",
       "    <tr>\n",
       "      <th>4</th>\n",
       "      <td>Male</td>\n",
       "      <td>No</td>\n",
       "      <td>0</td>\n",
       "      <td>Graduate</td>\n",
       "      <td>No</td>\n",
       "      <td>Urban</td>\n",
       "      <td>Y</td>\n",
       "    </tr>\n",
       "  </tbody>\n",
       "</table>\n",
       "</div>"
      ],
      "text/plain": [
       "  Gender Married Dependents     Education Self_Employed Property_Area  \\\n",
       "0   Male      No          0      Graduate            No         Urban   \n",
       "1   Male     Yes          1      Graduate            No         Rural   \n",
       "2   Male     Yes          0      Graduate           Yes         Urban   \n",
       "3   Male     Yes          0  Not Graduate            No         Urban   \n",
       "4   Male      No          0      Graduate            No         Urban   \n",
       "\n",
       "  Loan_Status  \n",
       "0           Y  \n",
       "1           N  \n",
       "2           Y  \n",
       "3           Y  \n",
       "4           Y  "
      ]
     },
     "execution_count": 26,
     "metadata": {},
     "output_type": "execute_result"
    }
   ],
   "source": [
    "# as the loanid plays no role for predicting the loan status hence we are dropping off loanid\n",
    "data = data.drop(['Loan_ID'], axis=1)\n",
    "data.select_dtypes('object').head()"
   ]
  },
  {
   "cell_type": "code",
   "execution_count": 27,
   "id": "4819c1d5",
   "metadata": {
    "execution": {
     "iopub.execute_input": "2024-07-17T19:15:00.125054Z",
     "iopub.status.busy": "2024-07-17T19:15:00.124643Z",
     "iopub.status.idle": "2024-07-17T19:15:00.141522Z",
     "shell.execute_reply": "2024-07-17T19:15:00.139518Z"
    },
    "papermill": {
     "duration": 0.044341,
     "end_time": "2024-07-17T19:15:00.144079",
     "exception": false,
     "start_time": "2024-07-17T19:15:00.099738",
     "status": "completed"
    },
    "tags": []
   },
   "outputs": [
    {
     "name": "stdout",
     "output_type": "stream",
     "text": [
      "Categorical columns:  Index(['Gender', 'Married', 'Dependents', 'Education', 'Self_Employed',\n",
      "       'Property_Area', 'Loan_Status'],\n",
      "      dtype='object')\n",
      "\n",
      "Gender\n",
      "Male      481\n",
      "Female    109\n",
      "Name: count, dtype: int64\n",
      "------------------------------\n",
      "Married\n",
      "Yes    384\n",
      "No     206\n",
      "Name: count, dtype: int64\n",
      "------------------------------\n",
      "Dependents\n",
      "0     350\n",
      "2      98\n",
      "1      96\n",
      "3+     46\n",
      "Name: count, dtype: int64\n",
      "------------------------------\n",
      "Education\n",
      "Graduate        456\n",
      "Not Graduate    134\n",
      "Name: count, dtype: int64\n",
      "------------------------------\n",
      "Self_Employed\n",
      "No     514\n",
      "Yes     76\n",
      "Name: count, dtype: int64\n",
      "------------------------------\n",
      "Property_Area\n",
      "Semiurban    222\n",
      "Urban        194\n",
      "Rural        174\n",
      "Name: count, dtype: int64\n",
      "------------------------------\n",
      "Loan_Status\n",
      "Y    408\n",
      "N    182\n",
      "Name: count, dtype: int64\n",
      "------------------------------\n"
     ]
    }
   ],
   "source": [
    "cat_cols = data.select_dtypes('object').head().columns\n",
    "print(f'Categorical columns: ',cat_cols,end=\"\\n\\n\")\n",
    "for i in cat_cols:\n",
    "    print(data[i].value_counts(),end=\"\\n\")\n",
    "    print('-'*30)"
   ]
  },
  {
   "cell_type": "code",
   "execution_count": 28,
   "id": "a3894850",
   "metadata": {
    "execution": {
     "iopub.execute_input": "2024-07-17T19:15:00.193964Z",
     "iopub.status.busy": "2024-07-17T19:15:00.193538Z",
     "iopub.status.idle": "2024-07-17T19:15:00.211943Z",
     "shell.execute_reply": "2024-07-17T19:15:00.210588Z"
    },
    "papermill": {
     "duration": 0.045452,
     "end_time": "2024-07-17T19:15:00.214294",
     "exception": false,
     "start_time": "2024-07-17T19:15:00.168842",
     "status": "completed"
    },
    "tags": []
   },
   "outputs": [],
   "source": [
    "# 'Gender', 'Married', 'Dependents', 'Education', 'Self_Employed','Property_Area', 'Loan_Status'\n",
    "data['Gender'] = data['Gender'].replace(('Male','Female'),(1,0))\n",
    "data['Married'] = data['Married'].replace(('Yes','No'),(1,0))\n",
    "data['Dependents'] = data['Dependents'].replace(('0','1','2','3+'),(0,1,1,1))\n",
    "data['Education'] = data['Education'].replace(('Graduate','Not Graduate'),(1,0))\n",
    "data['Self_Employed'] = data['Self_Employed'].replace(('Yes','No'),(1,0))\n",
    "data['Property_Area'] = data['Property_Area'].replace(('Urban','Semiurban','Rural'),(1,1,0))\n",
    "data['Loan_Status'] = data['Loan_Status'].replace(('Y','N'),(1,0))\n"
   ]
  },
  {
   "cell_type": "code",
   "execution_count": 29,
   "id": "b72b540d",
   "metadata": {
    "execution": {
     "iopub.execute_input": "2024-07-17T19:15:00.262142Z",
     "iopub.status.busy": "2024-07-17T19:15:00.261744Z",
     "iopub.status.idle": "2024-07-17T19:15:00.278737Z",
     "shell.execute_reply": "2024-07-17T19:15:00.277586Z"
    },
    "papermill": {
     "duration": 0.043263,
     "end_time": "2024-07-17T19:15:00.281088",
     "exception": false,
     "start_time": "2024-07-17T19:15:00.237825",
     "status": "completed"
    },
    "tags": []
   },
   "outputs": [
    {
     "data": {
      "text/html": [
       "<div>\n",
       "<style scoped>\n",
       "    .dataframe tbody tr th:only-of-type {\n",
       "        vertical-align: middle;\n",
       "    }\n",
       "\n",
       "    .dataframe tbody tr th {\n",
       "        vertical-align: top;\n",
       "    }\n",
       "\n",
       "    .dataframe thead th {\n",
       "        text-align: right;\n",
       "    }\n",
       "</style>\n",
       "<table border=\"1\" class=\"dataframe\">\n",
       "  <thead>\n",
       "    <tr style=\"text-align: right;\">\n",
       "      <th></th>\n",
       "      <th>Gender</th>\n",
       "      <th>Married</th>\n",
       "      <th>Dependents</th>\n",
       "      <th>Education</th>\n",
       "      <th>Self_Employed</th>\n",
       "      <th>ApplicantIncome</th>\n",
       "      <th>CoapplicantIncome</th>\n",
       "      <th>LoanAmount</th>\n",
       "      <th>Loan_Amount_Term</th>\n",
       "      <th>Credit_History</th>\n",
       "      <th>Property_Area</th>\n",
       "      <th>Loan_Status</th>\n",
       "    </tr>\n",
       "  </thead>\n",
       "  <tbody>\n",
       "    <tr>\n",
       "      <th>0</th>\n",
       "      <td>1</td>\n",
       "      <td>0</td>\n",
       "      <td>0</td>\n",
       "      <td>1</td>\n",
       "      <td>0</td>\n",
       "      <td>8.674026</td>\n",
       "      <td>0.000000</td>\n",
       "      <td>4.852030</td>\n",
       "      <td>360.0</td>\n",
       "      <td>1.0</td>\n",
       "      <td>1</td>\n",
       "      <td>1</td>\n",
       "    </tr>\n",
       "    <tr>\n",
       "      <th>1</th>\n",
       "      <td>1</td>\n",
       "      <td>1</td>\n",
       "      <td>1</td>\n",
       "      <td>1</td>\n",
       "      <td>0</td>\n",
       "      <td>8.430109</td>\n",
       "      <td>7.319202</td>\n",
       "      <td>4.852030</td>\n",
       "      <td>360.0</td>\n",
       "      <td>1.0</td>\n",
       "      <td>0</td>\n",
       "      <td>0</td>\n",
       "    </tr>\n",
       "    <tr>\n",
       "      <th>2</th>\n",
       "      <td>1</td>\n",
       "      <td>1</td>\n",
       "      <td>0</td>\n",
       "      <td>1</td>\n",
       "      <td>1</td>\n",
       "      <td>8.006368</td>\n",
       "      <td>0.000000</td>\n",
       "      <td>4.189655</td>\n",
       "      <td>360.0</td>\n",
       "      <td>1.0</td>\n",
       "      <td>1</td>\n",
       "      <td>1</td>\n",
       "    </tr>\n",
       "    <tr>\n",
       "      <th>3</th>\n",
       "      <td>1</td>\n",
       "      <td>1</td>\n",
       "      <td>0</td>\n",
       "      <td>0</td>\n",
       "      <td>0</td>\n",
       "      <td>7.856707</td>\n",
       "      <td>7.765993</td>\n",
       "      <td>4.787492</td>\n",
       "      <td>360.0</td>\n",
       "      <td>1.0</td>\n",
       "      <td>1</td>\n",
       "      <td>1</td>\n",
       "    </tr>\n",
       "    <tr>\n",
       "      <th>4</th>\n",
       "      <td>1</td>\n",
       "      <td>0</td>\n",
       "      <td>0</td>\n",
       "      <td>1</td>\n",
       "      <td>0</td>\n",
       "      <td>8.699515</td>\n",
       "      <td>0.000000</td>\n",
       "      <td>4.948760</td>\n",
       "      <td>360.0</td>\n",
       "      <td>1.0</td>\n",
       "      <td>1</td>\n",
       "      <td>1</td>\n",
       "    </tr>\n",
       "  </tbody>\n",
       "</table>\n",
       "</div>"
      ],
      "text/plain": [
       "   Gender  Married  Dependents  Education  Self_Employed  ApplicantIncome  \\\n",
       "0       1        0           0          1              0         8.674026   \n",
       "1       1        1           1          1              0         8.430109   \n",
       "2       1        1           0          1              1         8.006368   \n",
       "3       1        1           0          0              0         7.856707   \n",
       "4       1        0           0          1              0         8.699515   \n",
       "\n",
       "   CoapplicantIncome  LoanAmount  Loan_Amount_Term  Credit_History  \\\n",
       "0           0.000000    4.852030             360.0             1.0   \n",
       "1           7.319202    4.852030             360.0             1.0   \n",
       "2           0.000000    4.189655             360.0             1.0   \n",
       "3           7.765993    4.787492             360.0             1.0   \n",
       "4           0.000000    4.948760             360.0             1.0   \n",
       "\n",
       "   Property_Area  Loan_Status  \n",
       "0              1            1  \n",
       "1              0            0  \n",
       "2              1            1  \n",
       "3              1            1  \n",
       "4              1            1  "
      ]
     },
     "execution_count": 29,
     "metadata": {},
     "output_type": "execute_result"
    }
   ],
   "source": [
    "data.head()"
   ]
  },
  {
   "cell_type": "code",
   "execution_count": 30,
   "id": "9d5e5466",
   "metadata": {
    "execution": {
     "iopub.execute_input": "2024-07-17T19:15:00.329811Z",
     "iopub.status.busy": "2024-07-17T19:15:00.329384Z",
     "iopub.status.idle": "2024-07-17T19:15:00.336538Z",
     "shell.execute_reply": "2024-07-17T19:15:00.335314Z"
    },
    "papermill": {
     "duration": 0.034471,
     "end_time": "2024-07-17T19:15:00.339247",
     "exception": false,
     "start_time": "2024-07-17T19:15:00.304776",
     "status": "completed"
    },
    "tags": []
   },
   "outputs": [],
   "source": [
    "# dividing the dataset into dependent and independent variables\n",
    "y = data['Loan_Status']\n",
    "x = data.drop('Loan_Status',axis=1)"
   ]
  },
  {
   "cell_type": "code",
   "execution_count": 31,
   "id": "789ea445",
   "metadata": {
    "execution": {
     "iopub.execute_input": "2024-07-17T19:15:00.387547Z",
     "iopub.status.busy": "2024-07-17T19:15:00.387127Z",
     "iopub.status.idle": "2024-07-17T19:15:00.404139Z",
     "shell.execute_reply": "2024-07-17T19:15:00.403056Z"
    },
    "papermill": {
     "duration": 0.043924,
     "end_time": "2024-07-17T19:15:00.406556",
     "exception": false,
     "start_time": "2024-07-17T19:15:00.362632",
     "status": "completed"
    },
    "tags": []
   },
   "outputs": [
    {
     "data": {
      "text/html": [
       "<div>\n",
       "<style scoped>\n",
       "    .dataframe tbody tr th:only-of-type {\n",
       "        vertical-align: middle;\n",
       "    }\n",
       "\n",
       "    .dataframe tbody tr th {\n",
       "        vertical-align: top;\n",
       "    }\n",
       "\n",
       "    .dataframe thead th {\n",
       "        text-align: right;\n",
       "    }\n",
       "</style>\n",
       "<table border=\"1\" class=\"dataframe\">\n",
       "  <thead>\n",
       "    <tr style=\"text-align: right;\">\n",
       "      <th></th>\n",
       "      <th>Gender</th>\n",
       "      <th>Married</th>\n",
       "      <th>Dependents</th>\n",
       "      <th>Education</th>\n",
       "      <th>Self_Employed</th>\n",
       "      <th>ApplicantIncome</th>\n",
       "      <th>CoapplicantIncome</th>\n",
       "      <th>LoanAmount</th>\n",
       "      <th>Loan_Amount_Term</th>\n",
       "      <th>Credit_History</th>\n",
       "      <th>Property_Area</th>\n",
       "    </tr>\n",
       "  </thead>\n",
       "  <tbody>\n",
       "    <tr>\n",
       "      <th>0</th>\n",
       "      <td>1</td>\n",
       "      <td>0</td>\n",
       "      <td>0</td>\n",
       "      <td>1</td>\n",
       "      <td>0</td>\n",
       "      <td>8.674026</td>\n",
       "      <td>0.000000</td>\n",
       "      <td>4.852030</td>\n",
       "      <td>360.0</td>\n",
       "      <td>1.0</td>\n",
       "      <td>1</td>\n",
       "    </tr>\n",
       "    <tr>\n",
       "      <th>1</th>\n",
       "      <td>1</td>\n",
       "      <td>1</td>\n",
       "      <td>1</td>\n",
       "      <td>1</td>\n",
       "      <td>0</td>\n",
       "      <td>8.430109</td>\n",
       "      <td>7.319202</td>\n",
       "      <td>4.852030</td>\n",
       "      <td>360.0</td>\n",
       "      <td>1.0</td>\n",
       "      <td>0</td>\n",
       "    </tr>\n",
       "    <tr>\n",
       "      <th>2</th>\n",
       "      <td>1</td>\n",
       "      <td>1</td>\n",
       "      <td>0</td>\n",
       "      <td>1</td>\n",
       "      <td>1</td>\n",
       "      <td>8.006368</td>\n",
       "      <td>0.000000</td>\n",
       "      <td>4.189655</td>\n",
       "      <td>360.0</td>\n",
       "      <td>1.0</td>\n",
       "      <td>1</td>\n",
       "    </tr>\n",
       "    <tr>\n",
       "      <th>3</th>\n",
       "      <td>1</td>\n",
       "      <td>1</td>\n",
       "      <td>0</td>\n",
       "      <td>0</td>\n",
       "      <td>0</td>\n",
       "      <td>7.856707</td>\n",
       "      <td>7.765993</td>\n",
       "      <td>4.787492</td>\n",
       "      <td>360.0</td>\n",
       "      <td>1.0</td>\n",
       "      <td>1</td>\n",
       "    </tr>\n",
       "    <tr>\n",
       "      <th>4</th>\n",
       "      <td>1</td>\n",
       "      <td>0</td>\n",
       "      <td>0</td>\n",
       "      <td>1</td>\n",
       "      <td>0</td>\n",
       "      <td>8.699515</td>\n",
       "      <td>0.000000</td>\n",
       "      <td>4.948760</td>\n",
       "      <td>360.0</td>\n",
       "      <td>1.0</td>\n",
       "      <td>1</td>\n",
       "    </tr>\n",
       "  </tbody>\n",
       "</table>\n",
       "</div>"
      ],
      "text/plain": [
       "   Gender  Married  Dependents  Education  Self_Employed  ApplicantIncome  \\\n",
       "0       1        0           0          1              0         8.674026   \n",
       "1       1        1           1          1              0         8.430109   \n",
       "2       1        1           0          1              1         8.006368   \n",
       "3       1        1           0          0              0         7.856707   \n",
       "4       1        0           0          1              0         8.699515   \n",
       "\n",
       "   CoapplicantIncome  LoanAmount  Loan_Amount_Term  Credit_History  \\\n",
       "0           0.000000    4.852030             360.0             1.0   \n",
       "1           7.319202    4.852030             360.0             1.0   \n",
       "2           0.000000    4.189655             360.0             1.0   \n",
       "3           7.765993    4.787492             360.0             1.0   \n",
       "4           0.000000    4.948760             360.0             1.0   \n",
       "\n",
       "   Property_Area  \n",
       "0              1  \n",
       "1              0  \n",
       "2              1  \n",
       "3              1  \n",
       "4              1  "
      ]
     },
     "execution_count": 31,
     "metadata": {},
     "output_type": "execute_result"
    }
   ],
   "source": [
    "x.head()"
   ]
  },
  {
   "cell_type": "code",
   "execution_count": 32,
   "id": "05dcd545",
   "metadata": {
    "execution": {
     "iopub.execute_input": "2024-07-17T19:15:00.455431Z",
     "iopub.status.busy": "2024-07-17T19:15:00.454367Z",
     "iopub.status.idle": "2024-07-17T19:15:00.462309Z",
     "shell.execute_reply": "2024-07-17T19:15:00.461067Z"
    },
    "papermill": {
     "duration": 0.034701,
     "end_time": "2024-07-17T19:15:00.464746",
     "exception": false,
     "start_time": "2024-07-17T19:15:00.430045",
     "status": "completed"
    },
    "tags": []
   },
   "outputs": [
    {
     "data": {
      "text/plain": [
       "0    1\n",
       "1    0\n",
       "2    1\n",
       "3    1\n",
       "4    1\n",
       "Name: Loan_Status, dtype: int64"
      ]
     },
     "execution_count": 32,
     "metadata": {},
     "output_type": "execute_result"
    }
   ],
   "source": [
    "y.head()"
   ]
  },
  {
   "cell_type": "markdown",
   "id": "cd15a446",
   "metadata": {
    "papermill": {
     "duration": 0.023188,
     "end_time": "2024-07-17T19:15:00.511888",
     "exception": false,
     "start_time": "2024-07-17T19:15:00.488700",
     "status": "completed"
    },
    "tags": []
   },
   "source": [
    "#### Handling the imbalanced data"
   ]
  },
  {
   "cell_type": "code",
   "execution_count": 33,
   "id": "eca5e761",
   "metadata": {
    "execution": {
     "iopub.execute_input": "2024-07-17T19:15:00.560684Z",
     "iopub.status.busy": "2024-07-17T19:15:00.560293Z",
     "iopub.status.idle": "2024-07-17T19:15:01.300626Z",
     "shell.execute_reply": "2024-07-17T19:15:01.299314Z"
    },
    "papermill": {
     "duration": 0.768205,
     "end_time": "2024-07-17T19:15:01.303502",
     "exception": false,
     "start_time": "2024-07-17T19:15:00.535297",
     "status": "completed"
    },
    "tags": []
   },
   "outputs": [],
   "source": [
    "from imblearn.over_sampling import SMOTE"
   ]
  },
  {
   "cell_type": "code",
   "execution_count": 34,
   "id": "84faa6ce",
   "metadata": {
    "execution": {
     "iopub.execute_input": "2024-07-17T19:15:01.353595Z",
     "iopub.status.busy": "2024-07-17T19:15:01.353007Z",
     "iopub.status.idle": "2024-07-17T19:15:01.369481Z",
     "shell.execute_reply": "2024-07-17T19:15:01.367937Z"
    },
    "papermill": {
     "duration": 0.045209,
     "end_time": "2024-07-17T19:15:01.372386",
     "exception": false,
     "start_time": "2024-07-17T19:15:01.327177",
     "status": "completed"
    },
    "tags": []
   },
   "outputs": [],
   "source": [
    "x_resample, y_resample = SMOTE().fit_resample(x,y.values.ravel())"
   ]
  },
  {
   "cell_type": "code",
   "execution_count": 35,
   "id": "1cc3d72c",
   "metadata": {
    "execution": {
     "iopub.execute_input": "2024-07-17T19:15:01.421200Z",
     "iopub.status.busy": "2024-07-17T19:15:01.420774Z",
     "iopub.status.idle": "2024-07-17T19:15:01.426767Z",
     "shell.execute_reply": "2024-07-17T19:15:01.425551Z"
    },
    "papermill": {
     "duration": 0.033346,
     "end_time": "2024-07-17T19:15:01.429478",
     "exception": false,
     "start_time": "2024-07-17T19:15:01.396132",
     "status": "completed"
    },
    "tags": []
   },
   "outputs": [
    {
     "name": "stdout",
     "output_type": "stream",
     "text": [
      "x: (816, 11) (590, 11)\n",
      "y: (816,) (590,)\n"
     ]
    }
   ],
   "source": [
    "# checking the difference and amount of over sampling done\n",
    "\n",
    "print('x:',x_resample.shape, x.shape)\n",
    "print('y:',y_resample.shape, y.shape)"
   ]
  },
  {
   "cell_type": "markdown",
   "id": "83ef93e6",
   "metadata": {
    "papermill": {
     "duration": 0.02426,
     "end_time": "2024-07-17T19:15:01.477855",
     "exception": false,
     "start_time": "2024-07-17T19:15:01.453595",
     "status": "completed"
    },
    "tags": []
   },
   "source": [
    "#### Splitting the dataset"
   ]
  },
  {
   "cell_type": "code",
   "execution_count": 36,
   "id": "50713f52",
   "metadata": {
    "execution": {
     "iopub.execute_input": "2024-07-17T19:15:01.527260Z",
     "iopub.status.busy": "2024-07-17T19:15:01.526874Z",
     "iopub.status.idle": "2024-07-17T19:15:01.534710Z",
     "shell.execute_reply": "2024-07-17T19:15:01.533678Z"
    },
    "papermill": {
     "duration": 0.035088,
     "end_time": "2024-07-17T19:15:01.537372",
     "exception": false,
     "start_time": "2024-07-17T19:15:01.502284",
     "status": "completed"
    },
    "tags": []
   },
   "outputs": [],
   "source": [
    "from sklearn.model_selection import train_test_split\n",
    "\n",
    "x_train,x_test,y_train,y_test = train_test_split(x_resample,y_resample, test_size=0.2, random_state=42)"
   ]
  },
  {
   "cell_type": "code",
   "execution_count": 37,
   "id": "ac343c0c",
   "metadata": {
    "execution": {
     "iopub.execute_input": "2024-07-17T19:15:01.586050Z",
     "iopub.status.busy": "2024-07-17T19:15:01.585671Z",
     "iopub.status.idle": "2024-07-17T19:15:01.591324Z",
     "shell.execute_reply": "2024-07-17T19:15:01.590120Z"
    },
    "papermill": {
     "duration": 0.033002,
     "end_time": "2024-07-17T19:15:01.593727",
     "exception": false,
     "start_time": "2024-07-17T19:15:01.560725",
     "status": "completed"
    },
    "tags": []
   },
   "outputs": [
    {
     "name": "stdout",
     "output_type": "stream",
     "text": [
      "(652, 11)\n",
      "(652,)\n"
     ]
    }
   ],
   "source": [
    "print(x_train.shape)\n",
    "print(y_train.shape)"
   ]
  },
  {
   "cell_type": "code",
   "execution_count": 38,
   "id": "ac736b3e",
   "metadata": {
    "execution": {
     "iopub.execute_input": "2024-07-17T19:15:01.642485Z",
     "iopub.status.busy": "2024-07-17T19:15:01.642117Z",
     "iopub.status.idle": "2024-07-17T19:15:01.648445Z",
     "shell.execute_reply": "2024-07-17T19:15:01.647159Z"
    },
    "papermill": {
     "duration": 0.034349,
     "end_time": "2024-07-17T19:15:01.651350",
     "exception": false,
     "start_time": "2024-07-17T19:15:01.617001",
     "status": "completed"
    },
    "tags": []
   },
   "outputs": [
    {
     "name": "stdout",
     "output_type": "stream",
     "text": [
      "(164, 11)\n",
      "(164,)\n"
     ]
    }
   ],
   "source": [
    "print(x_test.shape)\n",
    "print(y_test.shape)"
   ]
  },
  {
   "cell_type": "markdown",
   "id": "fb189b09",
   "metadata": {
    "papermill": {
     "duration": 0.022887,
     "end_time": "2024-07-17T19:15:01.697906",
     "exception": false,
     "start_time": "2024-07-17T19:15:01.675019",
     "status": "completed"
    },
    "tags": []
   },
   "source": [
    "#### Model Building"
   ]
  },
  {
   "cell_type": "code",
   "execution_count": 39,
   "id": "83f7d204",
   "metadata": {
    "execution": {
     "iopub.execute_input": "2024-07-17T19:15:01.745907Z",
     "iopub.status.busy": "2024-07-17T19:15:01.745502Z",
     "iopub.status.idle": "2024-07-17T19:15:01.750423Z",
     "shell.execute_reply": "2024-07-17T19:15:01.749458Z"
    },
    "papermill": {
     "duration": 0.0316,
     "end_time": "2024-07-17T19:15:01.752801",
     "exception": false,
     "start_time": "2024-07-17T19:15:01.721201",
     "status": "completed"
    },
    "tags": []
   },
   "outputs": [],
   "source": [
    "# Logistic Regression\n",
    "from sklearn.linear_model import LogisticRegression\n",
    "from sklearn.metrics import accuracy_score"
   ]
  },
  {
   "cell_type": "code",
   "execution_count": 40,
   "id": "45667eb3",
   "metadata": {
    "execution": {
     "iopub.execute_input": "2024-07-17T19:15:01.802086Z",
     "iopub.status.busy": "2024-07-17T19:15:01.801100Z",
     "iopub.status.idle": "2024-07-17T19:15:01.840027Z",
     "shell.execute_reply": "2024-07-17T19:15:01.838316Z"
    },
    "papermill": {
     "duration": 0.066337,
     "end_time": "2024-07-17T19:15:01.842684",
     "exception": false,
     "start_time": "2024-07-17T19:15:01.776347",
     "status": "completed"
    },
    "tags": []
   },
   "outputs": [
    {
     "data": {
      "text/html": [
       "<style>#sk-container-id-1 {color: black;background-color: white;}#sk-container-id-1 pre{padding: 0;}#sk-container-id-1 div.sk-toggleable {background-color: white;}#sk-container-id-1 label.sk-toggleable__label {cursor: pointer;display: block;width: 100%;margin-bottom: 0;padding: 0.3em;box-sizing: border-box;text-align: center;}#sk-container-id-1 label.sk-toggleable__label-arrow:before {content: \"▸\";float: left;margin-right: 0.25em;color: #696969;}#sk-container-id-1 label.sk-toggleable__label-arrow:hover:before {color: black;}#sk-container-id-1 div.sk-estimator:hover label.sk-toggleable__label-arrow:before {color: black;}#sk-container-id-1 div.sk-toggleable__content {max-height: 0;max-width: 0;overflow: hidden;text-align: left;background-color: #f0f8ff;}#sk-container-id-1 div.sk-toggleable__content pre {margin: 0.2em;color: black;border-radius: 0.25em;background-color: #f0f8ff;}#sk-container-id-1 input.sk-toggleable__control:checked~div.sk-toggleable__content {max-height: 200px;max-width: 100%;overflow: auto;}#sk-container-id-1 input.sk-toggleable__control:checked~label.sk-toggleable__label-arrow:before {content: \"▾\";}#sk-container-id-1 div.sk-estimator input.sk-toggleable__control:checked~label.sk-toggleable__label {background-color: #d4ebff;}#sk-container-id-1 div.sk-label input.sk-toggleable__control:checked~label.sk-toggleable__label {background-color: #d4ebff;}#sk-container-id-1 input.sk-hidden--visually {border: 0;clip: rect(1px 1px 1px 1px);clip: rect(1px, 1px, 1px, 1px);height: 1px;margin: -1px;overflow: hidden;padding: 0;position: absolute;width: 1px;}#sk-container-id-1 div.sk-estimator {font-family: monospace;background-color: #f0f8ff;border: 1px dotted black;border-radius: 0.25em;box-sizing: border-box;margin-bottom: 0.5em;}#sk-container-id-1 div.sk-estimator:hover {background-color: #d4ebff;}#sk-container-id-1 div.sk-parallel-item::after {content: \"\";width: 100%;border-bottom: 1px solid gray;flex-grow: 1;}#sk-container-id-1 div.sk-label:hover label.sk-toggleable__label {background-color: #d4ebff;}#sk-container-id-1 div.sk-serial::before {content: \"\";position: absolute;border-left: 1px solid gray;box-sizing: border-box;top: 0;bottom: 0;left: 50%;z-index: 0;}#sk-container-id-1 div.sk-serial {display: flex;flex-direction: column;align-items: center;background-color: white;padding-right: 0.2em;padding-left: 0.2em;position: relative;}#sk-container-id-1 div.sk-item {position: relative;z-index: 1;}#sk-container-id-1 div.sk-parallel {display: flex;align-items: stretch;justify-content: center;background-color: white;position: relative;}#sk-container-id-1 div.sk-item::before, #sk-container-id-1 div.sk-parallel-item::before {content: \"\";position: absolute;border-left: 1px solid gray;box-sizing: border-box;top: 0;bottom: 0;left: 50%;z-index: -1;}#sk-container-id-1 div.sk-parallel-item {display: flex;flex-direction: column;z-index: 1;position: relative;background-color: white;}#sk-container-id-1 div.sk-parallel-item:first-child::after {align-self: flex-end;width: 50%;}#sk-container-id-1 div.sk-parallel-item:last-child::after {align-self: flex-start;width: 50%;}#sk-container-id-1 div.sk-parallel-item:only-child::after {width: 0;}#sk-container-id-1 div.sk-dashed-wrapped {border: 1px dashed gray;margin: 0 0.4em 0.5em 0.4em;box-sizing: border-box;padding-bottom: 0.4em;background-color: white;}#sk-container-id-1 div.sk-label label {font-family: monospace;font-weight: bold;display: inline-block;line-height: 1.2em;}#sk-container-id-1 div.sk-label-container {text-align: center;}#sk-container-id-1 div.sk-container {/* jupyter's `normalize.less` sets `[hidden] { display: none; }` but bootstrap.min.css set `[hidden] { display: none !important; }` so we also need the `!important` here to be able to override the default hidden behavior on the sphinx rendered scikit-learn.org. See: https://github.com/scikit-learn/scikit-learn/issues/21755 */display: inline-block !important;position: relative;}#sk-container-id-1 div.sk-text-repr-fallback {display: none;}</style><div id=\"sk-container-id-1\" class=\"sk-top-container\"><div class=\"sk-text-repr-fallback\"><pre>LogisticRegression()</pre><b>In a Jupyter environment, please rerun this cell to show the HTML representation or trust the notebook. <br />On GitHub, the HTML representation is unable to render, please try loading this page with nbviewer.org.</b></div><div class=\"sk-container\" hidden><div class=\"sk-item\"><div class=\"sk-estimator sk-toggleable\"><input class=\"sk-toggleable__control sk-hidden--visually\" id=\"sk-estimator-id-1\" type=\"checkbox\" checked><label for=\"sk-estimator-id-1\" class=\"sk-toggleable__label sk-toggleable__label-arrow\">LogisticRegression</label><div class=\"sk-toggleable__content\"><pre>LogisticRegression()</pre></div></div></div></div></div>"
      ],
      "text/plain": [
       "LogisticRegression()"
      ]
     },
     "execution_count": 40,
     "metadata": {},
     "output_type": "execute_result"
    }
   ],
   "source": [
    "LR = LogisticRegression()\n",
    "LR.fit(x_train, y_train)"
   ]
  },
  {
   "cell_type": "code",
   "execution_count": 41,
   "id": "7c7045af",
   "metadata": {
    "execution": {
     "iopub.execute_input": "2024-07-17T19:15:01.893208Z",
     "iopub.status.busy": "2024-07-17T19:15:01.892783Z",
     "iopub.status.idle": "2024-07-17T19:15:01.900377Z",
     "shell.execute_reply": "2024-07-17T19:15:01.899211Z"
    },
    "papermill": {
     "duration": 0.03571,
     "end_time": "2024-07-17T19:15:01.902700",
     "exception": false,
     "start_time": "2024-07-17T19:15:01.866990",
     "status": "completed"
    },
    "tags": []
   },
   "outputs": [],
   "source": [
    "y_pred = LR.predict(x_test)"
   ]
  },
  {
   "cell_type": "code",
   "execution_count": 42,
   "id": "adcb1d49",
   "metadata": {
    "execution": {
     "iopub.execute_input": "2024-07-17T19:15:01.954276Z",
     "iopub.status.busy": "2024-07-17T19:15:01.953858Z",
     "iopub.status.idle": "2024-07-17T19:15:01.966364Z",
     "shell.execute_reply": "2024-07-17T19:15:01.965040Z"
    },
    "papermill": {
     "duration": 0.041422,
     "end_time": "2024-07-17T19:15:01.968872",
     "exception": false,
     "start_time": "2024-07-17T19:15:01.927450",
     "status": "completed"
    },
    "tags": []
   },
   "outputs": [
    {
     "name": "stdout",
     "output_type": "stream",
     "text": [
      "Training Accuracy: 0.7377300613496932\n",
      "Test Accuracy: 0.75\n"
     ]
    }
   ],
   "source": [
    "print(\"Training Accuracy:\",LR.score(x_train,y_train))\n",
    "print(\"Test Accuracy:\",LR.score(x_test,y_test))"
   ]
  },
  {
   "cell_type": "code",
   "execution_count": 43,
   "id": "6741ddc9",
   "metadata": {
    "execution": {
     "iopub.execute_input": "2024-07-17T19:15:02.019891Z",
     "iopub.status.busy": "2024-07-17T19:15:02.019443Z",
     "iopub.status.idle": "2024-07-17T19:15:02.024576Z",
     "shell.execute_reply": "2024-07-17T19:15:02.023334Z"
    },
    "papermill": {
     "duration": 0.033591,
     "end_time": "2024-07-17T19:15:02.027023",
     "exception": false,
     "start_time": "2024-07-17T19:15:01.993432",
     "status": "completed"
    },
    "tags": []
   },
   "outputs": [],
   "source": [
    "from sklearn.metrics import classification_report"
   ]
  },
  {
   "cell_type": "code",
   "execution_count": 44,
   "id": "180921b9",
   "metadata": {
    "execution": {
     "iopub.execute_input": "2024-07-17T19:15:02.078071Z",
     "iopub.status.busy": "2024-07-17T19:15:02.077030Z",
     "iopub.status.idle": "2024-07-17T19:15:02.090881Z",
     "shell.execute_reply": "2024-07-17T19:15:02.089763Z"
    },
    "papermill": {
     "duration": 0.041995,
     "end_time": "2024-07-17T19:15:02.093385",
     "exception": false,
     "start_time": "2024-07-17T19:15:02.051390",
     "status": "completed"
    },
    "tags": []
   },
   "outputs": [
    {
     "name": "stdout",
     "output_type": "stream",
     "text": [
      "              precision    recall  f1-score   support\n",
      "\n",
      "           0       0.82      0.66      0.73        85\n",
      "           1       0.70      0.85      0.77        79\n",
      "\n",
      "    accuracy                           0.75       164\n",
      "   macro avg       0.76      0.75      0.75       164\n",
      "weighted avg       0.76      0.75      0.75       164\n",
      "\n"
     ]
    }
   ],
   "source": [
    "print(classification_report(y_test,y_pred))"
   ]
  },
  {
   "cell_type": "code",
   "execution_count": 45,
   "id": "c918a4bb",
   "metadata": {
    "execution": {
     "iopub.execute_input": "2024-07-17T19:15:02.146685Z",
     "iopub.status.busy": "2024-07-17T19:15:02.146263Z",
     "iopub.status.idle": "2024-07-17T19:15:02.154324Z",
     "shell.execute_reply": "2024-07-17T19:15:02.152912Z"
    },
    "papermill": {
     "duration": 0.037114,
     "end_time": "2024-07-17T19:15:02.156595",
     "exception": false,
     "start_time": "2024-07-17T19:15:02.119481",
     "status": "completed"
    },
    "tags": []
   },
   "outputs": [
    {
     "name": "stdout",
     "output_type": "stream",
     "text": [
      "LR Accuracy:  0.75\n"
     ]
    }
   ],
   "source": [
    "print(\"LR Accuracy: \", accuracy_score(y_pred,y_test))"
   ]
  },
  {
   "cell_type": "code",
   "execution_count": null,
   "id": "02b233af",
   "metadata": {
    "papermill": {
     "duration": 0.026167,
     "end_time": "2024-07-17T19:15:02.207719",
     "exception": false,
     "start_time": "2024-07-17T19:15:02.181552",
     "status": "completed"
    },
    "tags": []
   },
   "outputs": [],
   "source": []
  }
 ],
 "metadata": {
  "kaggle": {
   "accelerator": "none",
   "dataSources": [
    {
     "datasetId": 137197,
     "sourceId": 325031,
     "sourceType": "datasetVersion"
    }
   ],
   "dockerImageVersionId": 30746,
   "isGpuEnabled": false,
   "isInternetEnabled": true,
   "language": "python",
   "sourceType": "notebook"
  },
  "kernelspec": {
   "display_name": "Python 3",
   "language": "python",
   "name": "python3"
  },
  "language_info": {
   "codemirror_mode": {
    "name": "ipython",
    "version": 3
   },
   "file_extension": ".py",
   "mimetype": "text/x-python",
   "name": "python",
   "nbconvert_exporter": "python",
   "pygments_lexer": "ipython3",
   "version": "3.10.13"
  },
  "papermill": {
   "default_parameters": {},
   "duration": 37.147865,
   "end_time": "2024-07-17T19:15:03.154657",
   "environment_variables": {},
   "exception": null,
   "input_path": "__notebook__.ipynb",
   "output_path": "__notebook__.ipynb",
   "parameters": {},
   "start_time": "2024-07-17T19:14:26.006792",
   "version": "2.5.0"
  }
 },
 "nbformat": 4,
 "nbformat_minor": 5
}
